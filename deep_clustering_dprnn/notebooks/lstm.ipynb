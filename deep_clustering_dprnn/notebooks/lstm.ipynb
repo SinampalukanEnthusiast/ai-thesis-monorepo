{
 "cells": [
  {
   "cell_type": "code",
   "execution_count": null,
   "metadata": {},
   "outputs": [],
   "source": [
    "import torch\n",
    "import torch.nn as nn\n",
    "import torch.optim as optim\n",
    "import numpy as np\n",
    "import matplotlib.pyplot as plt\n",
    "# https://www.youtube.com/watch?v=RHGiXPuo_pI ; LSTMS by StatQuest\n",
    "# This code does not work"
   ]
  },
  {
   "cell_type": "code",
   "execution_count": null,
   "metadata": {},
   "outputs": [],
   "source": [
    "# Generate synthetic sequential data\n",
    "sequence_length = 10\n",
    "input_size = 1 # Dimension of the inputs / # of features evaluated\n",
    "hidden_size = 1\n",
    "\n",
    "data = torch.tensor([[0., 0.5, 0.25, 1.], [1., 0.5, 0.25, 1.]]) \n",
    "label = torch.tensor([0., 1.])\n"
   ]
  },
  {
   "cell_type": "code",
   "execution_count": 60,
   "metadata": {},
   "outputs": [],
   "source": [
    "class LSTMModel(nn.Module):\n",
    "    def __init__(self, input_size, hidden_size):\n",
    "        super(LSTMModel, self).__init__()\n",
    "        self.lstm = nn.LSTM(input_size, hidden_size, batch_first=True)\n",
    "    \n",
    "    def forward(self, x):\n",
    "        h0 = torch.zeros([1,2,1], dtype=torch.float32)\n",
    "        c0 = torch.zeros([1,2,1], dtype=torch.float32)\n",
    "        out, (hn, cn) = self.lstm(x, (h0, c0))\n",
    "        print(\"out in forward() \", out)\n",
    "        return out[-1], hn, cn\n",
    "    "
   ]
  },
  {
   "cell_type": "code",
   "execution_count": 61,
   "metadata": {},
   "outputs": [],
   "source": [
    "hidden_states = []\n",
    "cell_states = []\n",
    "def loss_func(predicition, label):\n",
    "    loss = (predicition - label) ** 2\n",
    "        \n",
    "    return loss"
   ]
  },
  {
   "cell_type": "code",
   "execution_count": 62,
   "metadata": {},
   "outputs": [
    {
     "name": "stdout",
     "output_type": "stream",
     "text": [
      "x = data.view(4, 2)  torch.Size([4, 2])\n",
      "x = data.unsqqueze(2)  torch.Size([2, 4, 1])\n",
      "out in forward()  tensor([[[-0.0218],\n",
      "         [-0.0065],\n",
      "         [-0.0144],\n",
      "         [ 0.0256]],\n",
      "\n",
      "        [[ 0.0297],\n",
      "         [ 0.0221],\n",
      "         [ 0.0042],\n",
      "         [ 0.0309]]], grad_fn=<TransposeBackward0>)\n"
     ]
    },
    {
     "ename": "TypeError",
     "evalue": "rsub() received an invalid combination of arguments - got (Tensor, tuple), but expected one of:\n * (Tensor input, Tensor other, Number alpha)\n * (Tensor input, Number other, Number alpha)\n",
     "output_type": "error",
     "traceback": [
      "\u001b[0;31m---------------------------------------------------------------------------\u001b[0m",
      "\u001b[0;31mTypeError\u001b[0m                                 Traceback (most recent call last)",
      "\u001b[1;32m/mnt/d/Python_Projects/Thesis AI/deep_clustering_dprnn/notebooks/lstm.ipynb Cell 5\u001b[0m line \u001b[0;36m1\n\u001b[1;32m     <a href='vscode-notebook-cell://wsl%2Bubuntu-20.04/mnt/d/Python_Projects/Thesis%20AI/deep_clustering_dprnn/notebooks/lstm.ipynb#W4sdnNjb2RlLXJlbW90ZQ%3D%3D?line=9'>10</a>\u001b[0m prediction \u001b[39m=\u001b[39m model( data\u001b[39m.\u001b[39munsqueeze(\u001b[39m2\u001b[39m))    \n\u001b[1;32m     <a href='vscode-notebook-cell://wsl%2Bubuntu-20.04/mnt/d/Python_Projects/Thesis%20AI/deep_clustering_dprnn/notebooks/lstm.ipynb#W4sdnNjb2RlLXJlbW90ZQ%3D%3D?line=10'>11</a>\u001b[0m optimizer\u001b[39m.\u001b[39mzero_grad()\n\u001b[0;32m---> <a href='vscode-notebook-cell://wsl%2Bubuntu-20.04/mnt/d/Python_Projects/Thesis%20AI/deep_clustering_dprnn/notebooks/lstm.ipynb#W4sdnNjb2RlLXJlbW90ZQ%3D%3D?line=11'>12</a>\u001b[0m loss \u001b[39m=\u001b[39m loss_func(predicition\u001b[39m=\u001b[39;49mprediction, label\u001b[39m=\u001b[39;49mtorch\u001b[39m.\u001b[39;49mtensor([\u001b[39m1.0\u001b[39;49m], dtype\u001b[39m=\u001b[39;49mtorch\u001b[39m.\u001b[39;49mfloat32))\n\u001b[1;32m     <a href='vscode-notebook-cell://wsl%2Bubuntu-20.04/mnt/d/Python_Projects/Thesis%20AI/deep_clustering_dprnn/notebooks/lstm.ipynb#W4sdnNjb2RlLXJlbW90ZQ%3D%3D?line=12'>13</a>\u001b[0m loss\u001b[39m.\u001b[39mbackward()\n\u001b[1;32m     <a href='vscode-notebook-cell://wsl%2Bubuntu-20.04/mnt/d/Python_Projects/Thesis%20AI/deep_clustering_dprnn/notebooks/lstm.ipynb#W4sdnNjb2RlLXJlbW90ZQ%3D%3D?line=13'>14</a>\u001b[0m optimizer\u001b[39m.\u001b[39mstep()\n",
      "\u001b[1;32m/mnt/d/Python_Projects/Thesis AI/deep_clustering_dprnn/notebooks/lstm.ipynb Cell 5\u001b[0m line \u001b[0;36m4\n\u001b[1;32m      <a href='vscode-notebook-cell://wsl%2Bubuntu-20.04/mnt/d/Python_Projects/Thesis%20AI/deep_clustering_dprnn/notebooks/lstm.ipynb#W4sdnNjb2RlLXJlbW90ZQ%3D%3D?line=2'>3</a>\u001b[0m \u001b[39mdef\u001b[39;00m \u001b[39mloss_func\u001b[39m(predicition, label):\n\u001b[0;32m----> <a href='vscode-notebook-cell://wsl%2Bubuntu-20.04/mnt/d/Python_Projects/Thesis%20AI/deep_clustering_dprnn/notebooks/lstm.ipynb#W4sdnNjb2RlLXJlbW90ZQ%3D%3D?line=3'>4</a>\u001b[0m     loss \u001b[39m=\u001b[39m (predicition \u001b[39m-\u001b[39;49m label) \u001b[39m*\u001b[39m\u001b[39m*\u001b[39m \u001b[39m2\u001b[39m\n\u001b[1;32m      <a href='vscode-notebook-cell://wsl%2Bubuntu-20.04/mnt/d/Python_Projects/Thesis%20AI/deep_clustering_dprnn/notebooks/lstm.ipynb#W4sdnNjb2RlLXJlbW90ZQ%3D%3D?line=5'>6</a>\u001b[0m     \u001b[39mreturn\u001b[39;00m loss\n",
      "File \u001b[0;32m~/.local/lib/python3.8/site-packages/torch/tensor.py:394\u001b[0m, in \u001b[0;36mTensor.__rsub__\u001b[0;34m(self, other)\u001b[0m\n\u001b[1;32m    393\u001b[0m \u001b[39mdef\u001b[39;00m \u001b[39m__rsub__\u001b[39m(\u001b[39mself\u001b[39m, other):\n\u001b[0;32m--> 394\u001b[0m     \u001b[39mreturn\u001b[39;00m _C\u001b[39m.\u001b[39;49m_VariableFunctions\u001b[39m.\u001b[39;49mrsub(\u001b[39mself\u001b[39;49m, other)\n",
      "\u001b[0;31mTypeError\u001b[0m: rsub() received an invalid combination of arguments - got (Tensor, tuple), but expected one of:\n * (Tensor input, Tensor other, Number alpha)\n * (Tensor input, Number other, Number alpha)\n"
     ]
    }
   ],
   "source": [
    "model = LSTMModel(input_size, hidden_size)\n",
    "num_epochs = 1000\n",
    "# loss_func = torch.nn.MSELoss()\n",
    "optimizer = torch.optim.Adam(model.parameters(), lr=0.1)\n",
    "# Train\n",
    "print(\"x = data.view(4, 2) \", data.view(4, 2).shape)\n",
    "print(\"x = data.unsqqueze(2) \", data.unsqueeze(2).shape)\n",
    "\n",
    "for epoch in range(num_epochs):\n",
    "    prediction = model( data.unsqueeze(2))    \n",
    "    optimizer.zero_grad()\n",
    "    loss = loss_func(predicition=prediction, label=torch.tensor([1.0], dtype=torch.float32))\n",
    "    loss.backward()\n",
    "    optimizer.step()\n",
    "    \n",
    "    if (epoch + 1) % 100 == 0:\n",
    "        print(f'Epoch [{epoch+1}/{num_epochs}], Loss: {loss.item():.4f}')\n",
    "\n"
   ]
  },
  {
   "cell_type": "code",
   "execution_count": null,
   "metadata": {},
   "outputs": [],
   "source": [
    "hidden_states = np.array(hidden_states)\n",
    "print('hidden_states ', hidden_states.shape, hidden_states)\n",
    "cell_states = np.array(cell_states)\n",
    "print('cell_states ', cell_states.shape, cell_states)\n",
    "\n",
    "plt.figure(figsize=(12, 5))\n",
    "plt.subplot(1, 2, 1)\n",
    "plt.title(\"Hidden States\")\n",
    "for i in range(hidden_size):\n",
    "    plt.plot(hidden_states[:, i], label=f\"Hidden {i+1}\")\n",
    "plt.xlabel(\"Time Step\")\n",
    "plt.legend()\n",
    "\n",
    "plt.subplot(1, 2, 2)\n",
    "plt.title(\"Cell States\")\n",
    "for i in range(hidden_size):\n",
    "    plt.plot(cell_states[:, i], label=f\"Cell {i+1}\")\n",
    "plt.xlabel(\"Time Step\")\n",
    "plt.legend()\n",
    "\n",
    "plt.tight_layout()\n",
    "plt.show()\n"
   ]
  }
 ],
 "metadata": {
  "kernelspec": {
   "display_name": "Python 3",
   "language": "python",
   "name": "python3"
  },
  "language_info": {
   "codemirror_mode": {
    "name": "ipython",
    "version": 3
   },
   "file_extension": ".py",
   "mimetype": "text/x-python",
   "name": "python",
   "nbconvert_exporter": "python",
   "pygments_lexer": "ipython3",
   "version": "3.8.10"
  },
  "orig_nbformat": 4
 },
 "nbformat": 4,
 "nbformat_minor": 2
}
