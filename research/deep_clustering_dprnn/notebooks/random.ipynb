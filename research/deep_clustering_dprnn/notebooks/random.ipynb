{
 "cells": [
  {
   "cell_type": "code",
   "execution_count": 3,
   "metadata": {},
   "outputs": [
    {
     "name": "stdout",
     "output_type": "stream",
     "text": [
      "1\n"
     ]
    }
   ],
   "source": [
    "import torch\n",
    "from torch.nn.utils.rnn import pack_padded_sequence\n",
    "\n",
    "# Example data\n",
    "sequences = torch.tensor([[1, 2, 3],\n",
    "                          [4, 5, 0],\n",
    "                          [6, 0, 0]])\n",
    "lengths = torch.tensor([3, 2, 1])  # Lengths of sequences\n",
    "\n",
    "# Pack the sequences\n",
    "packed_seq = pack_padded_sequence(sequences, lengths, batch_first=True)\n",
    "\n",
    "# Get the dimensions of the packed sequence\n",
    "dim = packed_seq.data.dim()\n",
    "\n",
    "print(dim)  # This will print the dimensions of the packed sequence\n"
   ]
  }
 ],
 "metadata": {
  "kernelspec": {
   "display_name": "Python 3",
   "language": "python",
   "name": "python3"
  },
  "language_info": {
   "codemirror_mode": {
    "name": "ipython",
    "version": 3
   },
   "file_extension": ".py",
   "mimetype": "text/x-python",
   "name": "python",
   "nbconvert_exporter": "python",
   "pygments_lexer": "ipython3",
   "version": "3.8.10"
  },
  "orig_nbformat": 4
 },
 "nbformat": 4,
 "nbformat_minor": 2
}
